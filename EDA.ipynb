{
 "cells": [
  {
   "cell_type": "markdown",
   "metadata": {},
   "source": [
    "### Streaming Startup Data (SaberFix)\n",
    "Exploring Data and Answering Business Questions"
   ]
  },
  {
   "cell_type": "code",
   "execution_count": 2,
   "metadata": {},
   "outputs": [],
   "source": [
    "# Spark Session is the entry point for all Spark functionality \n",
    "# Thorugh the Spark Session you are able to read data, \n",
    "# create DataFrames and transform it using Structured API's like pyspark.\n",
    "from pyspark.sql import SparkSession\n",
    "from pyspark.sql.functions import *\n",
    "spark = SparkSession.builder.appName(\"StriderTest\").getOrCreate()"
   ]
  },
  {
   "cell_type": "markdown",
   "metadata": {},
   "source": [
    "### Creating Views for each data file"
   ]
  },
  {
   "cell_type": "code",
   "execution_count": null,
   "metadata": {},
   "outputs": [],
   "source": [
    "### Movies View Creation\n",
    "print(\"\\n ----> Movies View Creation\")\n",
    "movies_schema = \"TITLE STRING, DURATION_MINS FLOAT,ORIGINAL_LANGUAGE STRING,SIZE_MB DOUBLE\"\n",
    "\n",
    "df_movies = spark.read.option(\"header\",\"true\").schema(movies_schema).csv(\"data/movies.csv\")\n",
    "df_movies.printSchema()\n",
    "df_movies.show(5)\n",
    "df_movies.createOrReplaceTempView(\"movies\")\n",
    "\n",
    "### Users View Creation\n",
    "print(\"\\n ----> Users View Creation\")\n",
    "df_users = spark.read.option(\"header\",\"true\").csv(\"data/users.csv\")\n",
    "df_users.show(5)\n",
    "df_users.createOrReplaceTempView(\"users\")\n",
    "\n",
    "\n",
    "### Streams View Cration\n",
    "print(\"\\n ----> Streams View Creation\")\n",
    "streams_schema = \"MOVIE_TITLE STRING, USER_EMAIL STRING,SIZE_MB DOUBLE,START_AT STRING,END_AT STRING\"\n",
    "\n",
    "df_streams_1 = spark.read.option(\"header\",\"true\").schema(streams_schema).csv(\"data/streams.csv\")\n",
    "\n",
    "df_streams_2 = (df_streams_1 #### Transformation \n",
    ".withColumn('SIZE_MB', col('size_mb').astype(\"DOUBLE\")) \n",
    ".withColumn('START_AT', to_timestamp(col(\"start_at\"),\"yyyy-MM-dd'T'HH:mm:ss.SSSZZZ\")) \n",
    ".withColumn('END_AT', to_timestamp(col(\"end_at\"),\"yyyy-MM-dd'T'HH:mm:ss.SSSZZZ\"))\n",
    ")\n",
    "\n",
    "df_streams_2.printSchema()\n",
    "df_streams_2.show(5)\n",
    "df_streams_2.createOrReplaceTempView(\"streams\")\n",
    "\n",
    "\n",
    "### Authors View Creation\n",
    "print(\"\\n ----> Authors View Creation\")\n",
    "df_authors = spark.read.option(\"header\",\"true\").json(\"data/authors.json\")\n",
    "\n",
    "df_authors_2 = (df_authors # transform\n",
    ".withColumn('died_at', to_timestamp(col(\"died_at\"),\"yyyy-MM-dd'T'HH:mm:ss.SSSZZZ\"))\n",
    ") \n",
    "df_authors_2.show(5)\n",
    "df_authors_2.createOrReplaceTempView(\"authors\")\n",
    "\n",
    "\n",
    "### Books View Creation\n",
    "print(\"\\n ----> Books View Creation\")\n",
    "df_books = spark.read.option(\"header\",\"true\").json(\"data/books.json\")\n",
    "df_books.show(5)\n",
    "df_books.createOrReplaceTempView(\"books\")\n",
    "\n",
    "\n",
    "### Reviews View Creation\n",
    "print(\"\\n ----> Reviews View Creation\")\n",
    "df_reviews = spark.read.option(\"header\",\"true\").json(\"data/reviews.json\")\n",
    "df_reviews.show(5)\n",
    "df_reviews.createOrReplaceTempView(\"reviews\")"
   ]
  }
 ],
 "metadata": {
  "interpreter": {
   "hash": "916dbcbb3f70747c44a77c7bcd40155683ae19c65e1c03b4aa3499c5328201f1"
  },
  "kernelspec": {
   "display_name": "Python 3.8.10 64-bit",
   "language": "python",
   "name": "python3"
  },
  "language_info": {
   "codemirror_mode": {
    "name": "ipython",
    "version": 3
   },
   "file_extension": ".py",
   "mimetype": "text/x-python",
   "name": "python",
   "nbconvert_exporter": "python",
   "pygments_lexer": "ipython3",
   "version": "3.8.10"
  },
  "orig_nbformat": 4
 },
 "nbformat": 4,
 "nbformat_minor": 2
}
